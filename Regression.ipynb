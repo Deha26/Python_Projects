{
 "cells": [
  {
   "cell_type": "markdown",
   "id": "c4f277ef-ec5c-4423-a475-380a3ee5bb48",
   "metadata": {},
   "source": [
    "SUPERVISED LEARNING : CLASSIFICATION\n",
    "\n",
    "Models to Explore-->Linear Regression, Ridge/Lasso, Decision Trees\n"
   ]
  },
  {
   "cell_type": "code",
   "execution_count": 1,
   "id": "4c175f47-3424-464f-893e-619106eaf860",
   "metadata": {},
   "outputs": [],
   "source": [
    "import pandas as pd"
   ]
  },
  {
   "cell_type": "code",
   "execution_count": 37,
   "id": "5c104c05-f8bd-4b47-a91d-44db5a517350",
   "metadata": {},
   "outputs": [],
   "source": [
    "df1=pd.read_csv('/Users/deha/Desktop/python/house_new.csv')"
   ]
  },
  {
   "cell_type": "code",
   "execution_count": 38,
   "id": "c871715e-5e5d-444e-9ee4-bb548cdc654b",
   "metadata": {},
   "outputs": [
    {
     "data": {
      "text/html": [
       "<div>\n",
       "<style scoped>\n",
       "    .dataframe tbody tr th:only-of-type {\n",
       "        vertical-align: middle;\n",
       "    }\n",
       "\n",
       "    .dataframe tbody tr th {\n",
       "        vertical-align: top;\n",
       "    }\n",
       "\n",
       "    .dataframe thead th {\n",
       "        text-align: right;\n",
       "    }\n",
       "</style>\n",
       "<table border=\"1\" class=\"dataframe\">\n",
       "  <thead>\n",
       "    <tr style=\"text-align: right;\">\n",
       "      <th></th>\n",
       "      <th>Square_Footage</th>\n",
       "      <th>Num_Bedrooms</th>\n",
       "      <th>Num_Bathrooms</th>\n",
       "      <th>Year_Built</th>\n",
       "      <th>Lot_Size</th>\n",
       "      <th>Garage_Size</th>\n",
       "      <th>Neighborhood_Quality</th>\n",
       "      <th>House_Price</th>\n",
       "    </tr>\n",
       "  </thead>\n",
       "  <tbody>\n",
       "    <tr>\n",
       "      <th>0</th>\n",
       "      <td>1360</td>\n",
       "      <td>2</td>\n",
       "      <td>1</td>\n",
       "      <td>1981</td>\n",
       "      <td>0.599637</td>\n",
       "      <td>0</td>\n",
       "      <td>5</td>\n",
       "      <td>2.623829e+05</td>\n",
       "    </tr>\n",
       "    <tr>\n",
       "      <th>1</th>\n",
       "      <td>4272</td>\n",
       "      <td>3</td>\n",
       "      <td>3</td>\n",
       "      <td>2016</td>\n",
       "      <td>4.753014</td>\n",
       "      <td>1</td>\n",
       "      <td>6</td>\n",
       "      <td>9.852609e+05</td>\n",
       "    </tr>\n",
       "    <tr>\n",
       "      <th>2</th>\n",
       "      <td>3592</td>\n",
       "      <td>1</td>\n",
       "      <td>2</td>\n",
       "      <td>2016</td>\n",
       "      <td>3.634823</td>\n",
       "      <td>0</td>\n",
       "      <td>9</td>\n",
       "      <td>7.779774e+05</td>\n",
       "    </tr>\n",
       "    <tr>\n",
       "      <th>3</th>\n",
       "      <td>966</td>\n",
       "      <td>1</td>\n",
       "      <td>2</td>\n",
       "      <td>1977</td>\n",
       "      <td>2.730667</td>\n",
       "      <td>1</td>\n",
       "      <td>8</td>\n",
       "      <td>2.296989e+05</td>\n",
       "    </tr>\n",
       "    <tr>\n",
       "      <th>4</th>\n",
       "      <td>4926</td>\n",
       "      <td>2</td>\n",
       "      <td>1</td>\n",
       "      <td>1993</td>\n",
       "      <td>4.699073</td>\n",
       "      <td>0</td>\n",
       "      <td>8</td>\n",
       "      <td>1.041741e+06</td>\n",
       "    </tr>\n",
       "  </tbody>\n",
       "</table>\n",
       "</div>"
      ],
      "text/plain": [
       "   Square_Footage  Num_Bedrooms  Num_Bathrooms  Year_Built  Lot_Size  \\\n",
       "0            1360             2              1        1981  0.599637   \n",
       "1            4272             3              3        2016  4.753014   \n",
       "2            3592             1              2        2016  3.634823   \n",
       "3             966             1              2        1977  2.730667   \n",
       "4            4926             2              1        1993  4.699073   \n",
       "\n",
       "   Garage_Size  Neighborhood_Quality   House_Price  \n",
       "0            0                     5  2.623829e+05  \n",
       "1            1                     6  9.852609e+05  \n",
       "2            0                     9  7.779774e+05  \n",
       "3            1                     8  2.296989e+05  \n",
       "4            0                     8  1.041741e+06  "
      ]
     },
     "execution_count": 38,
     "metadata": {},
     "output_type": "execute_result"
    }
   ],
   "source": [
    "df1.head()"
   ]
  },
  {
   "cell_type": "code",
   "execution_count": 39,
   "id": "dfc28073-abb5-4f18-a0eb-c4c5aa6d4307",
   "metadata": {},
   "outputs": [
    {
     "data": {
      "text/html": [
       "<div>\n",
       "<style scoped>\n",
       "    .dataframe tbody tr th:only-of-type {\n",
       "        vertical-align: middle;\n",
       "    }\n",
       "\n",
       "    .dataframe tbody tr th {\n",
       "        vertical-align: top;\n",
       "    }\n",
       "\n",
       "    .dataframe thead th {\n",
       "        text-align: right;\n",
       "    }\n",
       "</style>\n",
       "<table border=\"1\" class=\"dataframe\">\n",
       "  <thead>\n",
       "    <tr style=\"text-align: right;\">\n",
       "      <th></th>\n",
       "      <th>Square_Footage</th>\n",
       "      <th>Num_Bedrooms</th>\n",
       "      <th>Num_Bathrooms</th>\n",
       "      <th>Year_Built</th>\n",
       "      <th>Lot_Size</th>\n",
       "      <th>Garage_Size</th>\n",
       "      <th>Neighborhood_Quality</th>\n",
       "      <th>House_Price</th>\n",
       "    </tr>\n",
       "  </thead>\n",
       "  <tbody>\n",
       "    <tr>\n",
       "      <th>0</th>\n",
       "      <td>1360</td>\n",
       "      <td>2</td>\n",
       "      <td>1</td>\n",
       "      <td>1981</td>\n",
       "      <td>0.60</td>\n",
       "      <td>0</td>\n",
       "      <td>5</td>\n",
       "      <td>262382.85</td>\n",
       "    </tr>\n",
       "    <tr>\n",
       "      <th>1</th>\n",
       "      <td>4272</td>\n",
       "      <td>3</td>\n",
       "      <td>3</td>\n",
       "      <td>2016</td>\n",
       "      <td>4.75</td>\n",
       "      <td>1</td>\n",
       "      <td>6</td>\n",
       "      <td>985260.85</td>\n",
       "    </tr>\n",
       "    <tr>\n",
       "      <th>2</th>\n",
       "      <td>3592</td>\n",
       "      <td>1</td>\n",
       "      <td>2</td>\n",
       "      <td>2016</td>\n",
       "      <td>3.63</td>\n",
       "      <td>0</td>\n",
       "      <td>9</td>\n",
       "      <td>777977.39</td>\n",
       "    </tr>\n",
       "    <tr>\n",
       "      <th>3</th>\n",
       "      <td>966</td>\n",
       "      <td>1</td>\n",
       "      <td>2</td>\n",
       "      <td>1977</td>\n",
       "      <td>2.73</td>\n",
       "      <td>1</td>\n",
       "      <td>8</td>\n",
       "      <td>229698.92</td>\n",
       "    </tr>\n",
       "    <tr>\n",
       "      <th>4</th>\n",
       "      <td>4926</td>\n",
       "      <td>2</td>\n",
       "      <td>1</td>\n",
       "      <td>1993</td>\n",
       "      <td>4.70</td>\n",
       "      <td>0</td>\n",
       "      <td>8</td>\n",
       "      <td>1041740.86</td>\n",
       "    </tr>\n",
       "  </tbody>\n",
       "</table>\n",
       "</div>"
      ],
      "text/plain": [
       "   Square_Footage  Num_Bedrooms  Num_Bathrooms  Year_Built  Lot_Size  \\\n",
       "0            1360             2              1        1981      0.60   \n",
       "1            4272             3              3        2016      4.75   \n",
       "2            3592             1              2        2016      3.63   \n",
       "3             966             1              2        1977      2.73   \n",
       "4            4926             2              1        1993      4.70   \n",
       "\n",
       "   Garage_Size  Neighborhood_Quality  House_Price  \n",
       "0            0                     5    262382.85  \n",
       "1            1                     6    985260.85  \n",
       "2            0                     9    777977.39  \n",
       "3            1                     8    229698.92  \n",
       "4            0                     8   1041740.86  "
      ]
     },
     "execution_count": 39,
     "metadata": {},
     "output_type": "execute_result"
    }
   ],
   "source": [
    "df1['House_Price']=df1['House_Price'].round(2)\n",
    "df1['Lot_Size']=df1['Lot_Size'].round(2)\n",
    "df1.head()"
   ]
  },
  {
   "cell_type": "code",
   "execution_count": 40,
   "id": "a91e4174-cf78-4707-9870-6ceeb6beac97",
   "metadata": {},
   "outputs": [
    {
     "data": {
      "text/html": [
       "<div>\n",
       "<style scoped>\n",
       "    .dataframe tbody tr th:only-of-type {\n",
       "        vertical-align: middle;\n",
       "    }\n",
       "\n",
       "    .dataframe tbody tr th {\n",
       "        vertical-align: top;\n",
       "    }\n",
       "\n",
       "    .dataframe thead th {\n",
       "        text-align: right;\n",
       "    }\n",
       "</style>\n",
       "<table border=\"1\" class=\"dataframe\">\n",
       "  <thead>\n",
       "    <tr style=\"text-align: right;\">\n",
       "      <th></th>\n",
       "      <th>Square_Footage</th>\n",
       "      <th>Num_Bedrooms</th>\n",
       "      <th>Num_Bathrooms</th>\n",
       "      <th>Year_Built</th>\n",
       "      <th>Lot_Size</th>\n",
       "      <th>Garage_Size</th>\n",
       "      <th>Neighborhood_Quality</th>\n",
       "      <th>House_Price</th>\n",
       "      <th>Rooms</th>\n",
       "    </tr>\n",
       "  </thead>\n",
       "  <tbody>\n",
       "    <tr>\n",
       "      <th>0</th>\n",
       "      <td>1360</td>\n",
       "      <td>2</td>\n",
       "      <td>1</td>\n",
       "      <td>1981</td>\n",
       "      <td>0.60</td>\n",
       "      <td>0</td>\n",
       "      <td>5</td>\n",
       "      <td>262382.85</td>\n",
       "      <td>3</td>\n",
       "    </tr>\n",
       "    <tr>\n",
       "      <th>1</th>\n",
       "      <td>4272</td>\n",
       "      <td>3</td>\n",
       "      <td>3</td>\n",
       "      <td>2016</td>\n",
       "      <td>4.75</td>\n",
       "      <td>1</td>\n",
       "      <td>6</td>\n",
       "      <td>985260.85</td>\n",
       "      <td>6</td>\n",
       "    </tr>\n",
       "    <tr>\n",
       "      <th>2</th>\n",
       "      <td>3592</td>\n",
       "      <td>1</td>\n",
       "      <td>2</td>\n",
       "      <td>2016</td>\n",
       "      <td>3.63</td>\n",
       "      <td>0</td>\n",
       "      <td>9</td>\n",
       "      <td>777977.39</td>\n",
       "      <td>3</td>\n",
       "    </tr>\n",
       "    <tr>\n",
       "      <th>3</th>\n",
       "      <td>966</td>\n",
       "      <td>1</td>\n",
       "      <td>2</td>\n",
       "      <td>1977</td>\n",
       "      <td>2.73</td>\n",
       "      <td>1</td>\n",
       "      <td>8</td>\n",
       "      <td>229698.92</td>\n",
       "      <td>3</td>\n",
       "    </tr>\n",
       "    <tr>\n",
       "      <th>4</th>\n",
       "      <td>4926</td>\n",
       "      <td>2</td>\n",
       "      <td>1</td>\n",
       "      <td>1993</td>\n",
       "      <td>4.70</td>\n",
       "      <td>0</td>\n",
       "      <td>8</td>\n",
       "      <td>1041740.86</td>\n",
       "      <td>3</td>\n",
       "    </tr>\n",
       "  </tbody>\n",
       "</table>\n",
       "</div>"
      ],
      "text/plain": [
       "   Square_Footage  Num_Bedrooms  Num_Bathrooms  Year_Built  Lot_Size  \\\n",
       "0            1360             2              1        1981      0.60   \n",
       "1            4272             3              3        2016      4.75   \n",
       "2            3592             1              2        2016      3.63   \n",
       "3             966             1              2        1977      2.73   \n",
       "4            4926             2              1        1993      4.70   \n",
       "\n",
       "   Garage_Size  Neighborhood_Quality  House_Price  Rooms  \n",
       "0            0                     5    262382.85      3  \n",
       "1            1                     6    985260.85      6  \n",
       "2            0                     9    777977.39      3  \n",
       "3            1                     8    229698.92      3  \n",
       "4            0                     8   1041740.86      3  "
      ]
     },
     "execution_count": 40,
     "metadata": {},
     "output_type": "execute_result"
    }
   ],
   "source": [
    "df1['Rooms']=df1['Num_Bedrooms']+df1['Num_Bathrooms']\n",
    "df1.head()"
   ]
  },
  {
   "cell_type": "code",
   "execution_count": 41,
   "id": "5dd591d4-219b-4bb6-b5d6-631c3d9ce8bb",
   "metadata": {},
   "outputs": [],
   "source": [
    "import datetime\n",
    "cur=datetime.datetime.now()\n",
    "yr=cur.year"
   ]
  },
  {
   "cell_type": "code",
   "execution_count": 42,
   "id": "52ab6519-e1b7-4c1f-9f1d-513c496eb4c4",
   "metadata": {},
   "outputs": [
    {
     "data": {
      "text/html": [
       "<div>\n",
       "<style scoped>\n",
       "    .dataframe tbody tr th:only-of-type {\n",
       "        vertical-align: middle;\n",
       "    }\n",
       "\n",
       "    .dataframe tbody tr th {\n",
       "        vertical-align: top;\n",
       "    }\n",
       "\n",
       "    .dataframe thead th {\n",
       "        text-align: right;\n",
       "    }\n",
       "</style>\n",
       "<table border=\"1\" class=\"dataframe\">\n",
       "  <thead>\n",
       "    <tr style=\"text-align: right;\">\n",
       "      <th></th>\n",
       "      <th>Square_Footage</th>\n",
       "      <th>Num_Bedrooms</th>\n",
       "      <th>Num_Bathrooms</th>\n",
       "      <th>Year_Built</th>\n",
       "      <th>Lot_Size</th>\n",
       "      <th>Garage_Size</th>\n",
       "      <th>Neighborhood_Quality</th>\n",
       "      <th>House_Price</th>\n",
       "      <th>Rooms</th>\n",
       "      <th>Years</th>\n",
       "    </tr>\n",
       "  </thead>\n",
       "  <tbody>\n",
       "    <tr>\n",
       "      <th>0</th>\n",
       "      <td>1360</td>\n",
       "      <td>2</td>\n",
       "      <td>1</td>\n",
       "      <td>1981</td>\n",
       "      <td>0.60</td>\n",
       "      <td>0</td>\n",
       "      <td>5</td>\n",
       "      <td>262382.85</td>\n",
       "      <td>3</td>\n",
       "      <td>44</td>\n",
       "    </tr>\n",
       "    <tr>\n",
       "      <th>1</th>\n",
       "      <td>4272</td>\n",
       "      <td>3</td>\n",
       "      <td>3</td>\n",
       "      <td>2016</td>\n",
       "      <td>4.75</td>\n",
       "      <td>1</td>\n",
       "      <td>6</td>\n",
       "      <td>985260.85</td>\n",
       "      <td>6</td>\n",
       "      <td>9</td>\n",
       "    </tr>\n",
       "    <tr>\n",
       "      <th>2</th>\n",
       "      <td>3592</td>\n",
       "      <td>1</td>\n",
       "      <td>2</td>\n",
       "      <td>2016</td>\n",
       "      <td>3.63</td>\n",
       "      <td>0</td>\n",
       "      <td>9</td>\n",
       "      <td>777977.39</td>\n",
       "      <td>3</td>\n",
       "      <td>9</td>\n",
       "    </tr>\n",
       "    <tr>\n",
       "      <th>3</th>\n",
       "      <td>966</td>\n",
       "      <td>1</td>\n",
       "      <td>2</td>\n",
       "      <td>1977</td>\n",
       "      <td>2.73</td>\n",
       "      <td>1</td>\n",
       "      <td>8</td>\n",
       "      <td>229698.92</td>\n",
       "      <td>3</td>\n",
       "      <td>48</td>\n",
       "    </tr>\n",
       "    <tr>\n",
       "      <th>4</th>\n",
       "      <td>4926</td>\n",
       "      <td>2</td>\n",
       "      <td>1</td>\n",
       "      <td>1993</td>\n",
       "      <td>4.70</td>\n",
       "      <td>0</td>\n",
       "      <td>8</td>\n",
       "      <td>1041740.86</td>\n",
       "      <td>3</td>\n",
       "      <td>32</td>\n",
       "    </tr>\n",
       "  </tbody>\n",
       "</table>\n",
       "</div>"
      ],
      "text/plain": [
       "   Square_Footage  Num_Bedrooms  Num_Bathrooms  Year_Built  Lot_Size  \\\n",
       "0            1360             2              1        1981      0.60   \n",
       "1            4272             3              3        2016      4.75   \n",
       "2            3592             1              2        2016      3.63   \n",
       "3             966             1              2        1977      2.73   \n",
       "4            4926             2              1        1993      4.70   \n",
       "\n",
       "   Garage_Size  Neighborhood_Quality  House_Price  Rooms  Years  \n",
       "0            0                     5    262382.85      3     44  \n",
       "1            1                     6    985260.85      6      9  \n",
       "2            0                     9    777977.39      3      9  \n",
       "3            1                     8    229698.92      3     48  \n",
       "4            0                     8   1041740.86      3     32  "
      ]
     },
     "execution_count": 42,
     "metadata": {},
     "output_type": "execute_result"
    }
   ],
   "source": [
    "df1['Years']=yr-df1['Year_Built']\n",
    "df1.head()"
   ]
  },
  {
   "cell_type": "code",
   "execution_count": 43,
   "id": "cb8e52d0-9f3c-4549-a27f-f722e4bda109",
   "metadata": {},
   "outputs": [
    {
     "data": {
      "text/html": [
       "<div>\n",
       "<style scoped>\n",
       "    .dataframe tbody tr th:only-of-type {\n",
       "        vertical-align: middle;\n",
       "    }\n",
       "\n",
       "    .dataframe tbody tr th {\n",
       "        vertical-align: top;\n",
       "    }\n",
       "\n",
       "    .dataframe thead th {\n",
       "        text-align: right;\n",
       "    }\n",
       "</style>\n",
       "<table border=\"1\" class=\"dataframe\">\n",
       "  <thead>\n",
       "    <tr style=\"text-align: right;\">\n",
       "      <th></th>\n",
       "      <th>Square_Footage</th>\n",
       "      <th>Lot_Size</th>\n",
       "      <th>Garage_Size</th>\n",
       "      <th>Neighborhood_Quality</th>\n",
       "      <th>House_Price</th>\n",
       "      <th>Rooms</th>\n",
       "      <th>Years</th>\n",
       "    </tr>\n",
       "  </thead>\n",
       "  <tbody>\n",
       "    <tr>\n",
       "      <th>0</th>\n",
       "      <td>1360</td>\n",
       "      <td>0.60</td>\n",
       "      <td>0</td>\n",
       "      <td>5</td>\n",
       "      <td>262382.85</td>\n",
       "      <td>3</td>\n",
       "      <td>44</td>\n",
       "    </tr>\n",
       "    <tr>\n",
       "      <th>1</th>\n",
       "      <td>4272</td>\n",
       "      <td>4.75</td>\n",
       "      <td>1</td>\n",
       "      <td>6</td>\n",
       "      <td>985260.85</td>\n",
       "      <td>6</td>\n",
       "      <td>9</td>\n",
       "    </tr>\n",
       "    <tr>\n",
       "      <th>2</th>\n",
       "      <td>3592</td>\n",
       "      <td>3.63</td>\n",
       "      <td>0</td>\n",
       "      <td>9</td>\n",
       "      <td>777977.39</td>\n",
       "      <td>3</td>\n",
       "      <td>9</td>\n",
       "    </tr>\n",
       "    <tr>\n",
       "      <th>3</th>\n",
       "      <td>966</td>\n",
       "      <td>2.73</td>\n",
       "      <td>1</td>\n",
       "      <td>8</td>\n",
       "      <td>229698.92</td>\n",
       "      <td>3</td>\n",
       "      <td>48</td>\n",
       "    </tr>\n",
       "    <tr>\n",
       "      <th>4</th>\n",
       "      <td>4926</td>\n",
       "      <td>4.70</td>\n",
       "      <td>0</td>\n",
       "      <td>8</td>\n",
       "      <td>1041740.86</td>\n",
       "      <td>3</td>\n",
       "      <td>32</td>\n",
       "    </tr>\n",
       "  </tbody>\n",
       "</table>\n",
       "</div>"
      ],
      "text/plain": [
       "   Square_Footage  Lot_Size  Garage_Size  Neighborhood_Quality  House_Price  \\\n",
       "0            1360      0.60            0                     5    262382.85   \n",
       "1            4272      4.75            1                     6    985260.85   \n",
       "2            3592      3.63            0                     9    777977.39   \n",
       "3             966      2.73            1                     8    229698.92   \n",
       "4            4926      4.70            0                     8   1041740.86   \n",
       "\n",
       "   Rooms  Years  \n",
       "0      3     44  \n",
       "1      6      9  \n",
       "2      3      9  \n",
       "3      3     48  \n",
       "4      3     32  "
      ]
     },
     "execution_count": 43,
     "metadata": {},
     "output_type": "execute_result"
    }
   ],
   "source": [
    "df1.drop(['Num_Bedrooms','Num_Bathrooms','Year_Built'],axis=1,inplace=True)\n",
    "df1.head()"
   ]
  },
  {
   "cell_type": "code",
   "execution_count": 44,
   "id": "065d8f37-3685-4b91-88f0-14dafa4d2a01",
   "metadata": {},
   "outputs": [
    {
     "data": {
      "text/plain": [
       "<Axes: >"
      ]
     },
     "execution_count": 44,
     "metadata": {},
     "output_type": "execute_result"
    },
    {
     "data": {
      "image/png": "[encoded data removed]",
      "text/plain": [
       "<Figure size 640x480 with 2 Axes>"
      ]
     },
     "metadata": {},
     "output_type": "display_data"
    }
   ],
   "source": [
    "sns.heatmap(df1.corr(),annot=True)"
   ]
  },
  {
   "cell_type": "code",
   "execution_count": 45,
   "id": "c188c28e-934c-4fc3-aebf-ee2b8e16fdd8",
   "metadata": {},
   "outputs": [
    {
     "data": {
      "image/png": "[encoded data removed]",
      "text/plain": [
       "<Figure size 640x480 with 1 Axes>"
      ]
     },
     "metadata": {},
     "output_type": "display_data"
    }
   ],
   "source": [
    "plt.scatter(df1['Square_Footage'],df1['House_Price'],color='b')\n",
    "plt.xlabel('Square Footage')\n",
    "plt.ylabel('Price')\n",
    "plt.title('Square_Footage vs Price')\n",
    "plt.show()"
   ]
  },
  {
   "cell_type": "code",
   "execution_count": 46,
   "id": "c9d008fc-5257-4ffc-a4fe-f21e139fa660",
   "metadata": {},
   "outputs": [
    {
     "data": {
      "text/plain": [
       "Text(0.5, 1.0, 'Rooms distribution')"
      ]
     },
     "execution_count": 46,
     "metadata": {},
     "output_type": "execute_result"
    },
    {
     "data": {
      "image/png": "[encoded data removed]",
      "text/plain": [
       "<Figure size 640x480 with 1 Axes>"
      ]
     },
     "metadata": {},
     "output_type": "display_data"
    }
   ],
   "source": [
    "rooms=df1['Rooms'].value_counts().sort_index(ascending=True)\n",
    "sns.barplot(rooms,color='salmon')\n",
    "plt.title('Rooms distribution')"
   ]
  },
  {
   "cell_type": "code",
   "execution_count": 47,
   "id": "dd1cd68b-a9b4-4853-bf28-ddfd2ee8520d",
   "metadata": {},
   "outputs": [
    {
     "data": {
      "text/plain": [
       "Text(0.5, 1.0, 'Years distribution')"
      ]
     },
     "execution_count": 47,
     "metadata": {},
     "output_type": "execute_result"
    },
    {
     "data": {
      "image/png": "[encoded data removed]",
      "text/plain": [
       "<Figure size 640x480 with 1 Axes>"
      ]
     },
     "metadata": {},
     "output_type": "display_data"
    }
   ],
   "source": [
    "years_by_price=df1.groupby('Years')['House_Price'].mean().sort_index()\n",
    "sns.lineplot(years_by_price,color='crimson')\n",
    "plt.title('Years distribution')"
   ]
  },
  {
   "cell_type": "code",
   "execution_count": 48,
   "id": "b8fc4f97-1a2e-427a-a90f-e5175e01c2e4",
   "metadata": {},
   "outputs": [
    {
     "data": {
      "text/html": [
       "<div>\n",
       "<style scoped>\n",
       "    .dataframe tbody tr th:only-of-type {\n",
       "        vertical-align: middle;\n",
       "    }\n",
       "\n",
       "    .dataframe tbody tr th {\n",
       "        vertical-align: top;\n",
       "    }\n",
       "\n",
       "    .dataframe thead th {\n",
       "        text-align: right;\n",
       "    }\n",
       "</style>\n",
       "<table border=\"1\" class=\"dataframe\">\n",
       "  <thead>\n",
       "    <tr style=\"text-align: right;\">\n",
       "      <th></th>\n",
       "      <th>Square_Footage</th>\n",
       "      <th>Lot_Size</th>\n",
       "      <th>Garage_Size</th>\n",
       "      <th>Neighborhood_Quality</th>\n",
       "      <th>House_Price</th>\n",
       "      <th>Rooms</th>\n",
       "      <th>Years</th>\n",
       "    </tr>\n",
       "  </thead>\n",
       "  <tbody>\n",
       "    <tr>\n",
       "      <th>0</th>\n",
       "      <td>1360</td>\n",
       "      <td>0.60</td>\n",
       "      <td>0</td>\n",
       "      <td>5</td>\n",
       "      <td>262382.85</td>\n",
       "      <td>3</td>\n",
       "      <td>44</td>\n",
       "    </tr>\n",
       "    <tr>\n",
       "      <th>1</th>\n",
       "      <td>4272</td>\n",
       "      <td>4.75</td>\n",
       "      <td>1</td>\n",
       "      <td>6</td>\n",
       "      <td>985260.85</td>\n",
       "      <td>6</td>\n",
       "      <td>9</td>\n",
       "    </tr>\n",
       "    <tr>\n",
       "      <th>2</th>\n",
       "      <td>3592</td>\n",
       "      <td>3.63</td>\n",
       "      <td>0</td>\n",
       "      <td>9</td>\n",
       "      <td>777977.39</td>\n",
       "      <td>3</td>\n",
       "      <td>9</td>\n",
       "    </tr>\n",
       "    <tr>\n",
       "      <th>3</th>\n",
       "      <td>966</td>\n",
       "      <td>2.73</td>\n",
       "      <td>1</td>\n",
       "      <td>8</td>\n",
       "      <td>229698.92</td>\n",
       "      <td>3</td>\n",
       "      <td>48</td>\n",
       "    </tr>\n",
       "    <tr>\n",
       "      <th>4</th>\n",
       "      <td>4926</td>\n",
       "      <td>4.70</td>\n",
       "      <td>0</td>\n",
       "      <td>8</td>\n",
       "      <td>1041740.86</td>\n",
       "      <td>3</td>\n",
       "      <td>32</td>\n",
       "    </tr>\n",
       "  </tbody>\n",
       "</table>\n",
       "</div>"
      ],
      "text/plain": [
       "   Square_Footage  Lot_Size  Garage_Size  Neighborhood_Quality  House_Price  \\\n",
       "0            1360      0.60            0                     5    262382.85   \n",
       "1            4272      4.75            1                     6    985260.85   \n",
       "2            3592      3.63            0                     9    777977.39   \n",
       "3             966      2.73            1                     8    229698.92   \n",
       "4            4926      4.70            0                     8   1041740.86   \n",
       "\n",
       "   Rooms  Years  \n",
       "0      3     44  \n",
       "1      6      9  \n",
       "2      3      9  \n",
       "3      3     48  \n",
       "4      3     32  "
      ]
     },
     "execution_count": 48,
     "metadata": {},
     "output_type": "execute_result"
    }
   ],
   "source": [
    "df1.head()"
   ]
  },
  {
   "cell_type": "code",
   "execution_count": 49,
   "id": "114d96df-3b03-4935-95d6-ac8f772ade79",
   "metadata": {},
   "outputs": [
    {
     "data": {
      "text/plain": [
       "Index(['Square_Footage', 'Lot_Size', 'Garage_Size', 'Neighborhood_Quality',\n",
       "       'House_Price', 'Rooms', 'Years'],\n",
       "      dtype='object')"
      ]
     },
     "execution_count": 49,
     "metadata": {},
     "output_type": "execute_result"
    }
   ],
   "source": [
    "df1.columns"
   ]
  },
  {
   "cell_type": "code",
   "execution_count": 50,
   "id": "70474f61-cc48-4628-bd58-1290018a6bf5",
   "metadata": {},
   "outputs": [],
   "source": [
    "y=np.log1p(df1['House_Price'])"
   ]
  },
  {
   "cell_type": "code",
   "execution_count": 51,
   "id": "fd24b200-1050-4133-91e0-e5a3621e592f",
   "metadata": {},
   "outputs": [
    {
     "data": {
      "text/plain": [
       "0    12.477564\n",
       "1    13.800663\n",
       "2    13.564454\n",
       "3    12.344529\n",
       "4    13.856405\n",
       "Name: House_Price, dtype: float64"
      ]
     },
     "execution_count": 51,
     "metadata": {},
     "output_type": "execute_result"
    }
   ],
   "source": [
    "y.head()"
   ]
  },
  {
   "cell_type": "code",
   "execution_count": 52,
   "id": "f49967d9-1234-4ed9-8c2b-8ea9df544eea",
   "metadata": {},
   "outputs": [
    {
     "data": {
      "text/html": [
       "<div>\n",
       "<style scoped>\n",
       "    .dataframe tbody tr th:only-of-type {\n",
       "        vertical-align: middle;\n",
       "    }\n",
       "\n",
       "    .dataframe tbody tr th {\n",
       "        vertical-align: top;\n",
       "    }\n",
       "\n",
       "    .dataframe thead th {\n",
       "        text-align: right;\n",
       "    }\n",
       "</style>\n",
       "<table border=\"1\" class=\"dataframe\">\n",
       "  <thead>\n",
       "    <tr style=\"text-align: right;\">\n",
       "      <th></th>\n",
       "      <th>Square_Footage</th>\n",
       "      <th>Lot_Size</th>\n",
       "      <th>Garage_Size</th>\n",
       "      <th>Neighborhood_Quality</th>\n",
       "      <th>Rooms</th>\n",
       "      <th>Years</th>\n",
       "    </tr>\n",
       "  </thead>\n",
       "  <tbody>\n",
       "    <tr>\n",
       "      <th>0</th>\n",
       "      <td>1360</td>\n",
       "      <td>0.60</td>\n",
       "      <td>0</td>\n",
       "      <td>5</td>\n",
       "      <td>3</td>\n",
       "      <td>44</td>\n",
       "    </tr>\n",
       "    <tr>\n",
       "      <th>1</th>\n",
       "      <td>4272</td>\n",
       "      <td>4.75</td>\n",
       "      <td>1</td>\n",
       "      <td>6</td>\n",
       "      <td>6</td>\n",
       "      <td>9</td>\n",
       "    </tr>\n",
       "    <tr>\n",
       "      <th>2</th>\n",
       "      <td>3592</td>\n",
       "      <td>3.63</td>\n",
       "      <td>0</td>\n",
       "      <td>9</td>\n",
       "      <td>3</td>\n",
       "      <td>9</td>\n",
       "    </tr>\n",
       "    <tr>\n",
       "      <th>3</th>\n",
       "      <td>966</td>\n",
       "      <td>2.73</td>\n",
       "      <td>1</td>\n",
       "      <td>8</td>\n",
       "      <td>3</td>\n",
       "      <td>48</td>\n",
       "    </tr>\n",
       "    <tr>\n",
       "      <th>4</th>\n",
       "      <td>4926</td>\n",
       "      <td>4.70</td>\n",
       "      <td>0</td>\n",
       "      <td>8</td>\n",
       "      <td>3</td>\n",
       "      <td>32</td>\n",
       "    </tr>\n",
       "  </tbody>\n",
       "</table>\n",
       "</div>"
      ],
      "text/plain": [
       "   Square_Footage  Lot_Size  Garage_Size  Neighborhood_Quality  Rooms  Years\n",
       "0            1360      0.60            0                     5      3     44\n",
       "1            4272      4.75            1                     6      6      9\n",
       "2            3592      3.63            0                     9      3      9\n",
       "3             966      2.73            1                     8      3     48\n",
       "4            4926      4.70            0                     8      3     32"
      ]
     },
     "execution_count": 52,
     "metadata": {},
     "output_type": "execute_result"
    }
   ],
   "source": [
    "x=df1.drop(['House_Price'],axis=1)\n",
    "x.head()"
   ]
  },
  {
   "cell_type": "code",
   "execution_count": 53,
   "id": "36f1aa2e-552d-40e2-81aa-ee426b413cf5",
   "metadata": {},
   "outputs": [],
   "source": [
    "from sklearn.model_selection import train_test_split"
   ]
  },
  {
   "cell_type": "code",
   "execution_count": 54,
   "id": "14960515-7887-4975-9f47-b262d4c7e2ca",
   "metadata": {},
   "outputs": [],
   "source": [
    "x_train,x_test,y_train,y_test=train_test_split(x,y,test_size=0.2,random_state=42)"
   ]
  },
  {
   "cell_type": "code",
   "execution_count": 55,
   "id": "5512041d-0410-4123-8d79-2af0ea1e34ba",
   "metadata": {},
   "outputs": [],
   "source": [
    "from sklearn.linear_model import LinearRegression,Ridge,Lasso\n",
    "from sklearn.tree import DecisionTreeRegressor\n",
    "from sklearn.ensemble import RandomForestRegressor\n",
    "from sklearn.svm import SVR\n",
    "from sklearn.ensemble import GradientBoostingRegressor,AdaBoostRegressor"
   ]
  },
  {
   "cell_type": "code",
   "execution_count": 56,
   "id": "002aabe5-d457-4601-80a5-5dfad14292d9",
   "metadata": {},
   "outputs": [],
   "source": [
    "models={\n",
    "    'Linear Regression':LinearRegression(),\n",
    "    'Ridge':Ridge(alpha=1.0),\n",
    "    'Lasso':Lasso(alpha=0.1),\n",
    "    'Decision Tree Regressor':DecisionTreeRegressor(max_depth=5),\n",
    "    'RandomForestRegressor':RandomForestRegressor(),\n",
    "    'Support Vector Regressor':SVR(),\n",
    "    'GradientBoostingRegressor':GradientBoostingRegressor(),\n",
    "    'AdaBoostRegressor':AdaBoostRegressor()\n",
    "}"
   ]
  },
  {
   "cell_type": "code",
   "execution_count": 57,
   "id": "240757c3-0a4e-4585-acdd-f9cf44e53ee7",
   "metadata": {},
   "outputs": [],
   "source": [
    "from sklearn.metrics import mean_squared_error,mean_absolute_error,r2_score"
   ]
  },
  {
   "cell_type": "code",
   "execution_count": 58,
   "id": "2123bb62-4aa6-4b9e-9b10-36759b4b9d6b",
   "metadata": {},
   "outputs": [
    {
     "name": "stdout",
     "output_type": "stream",
     "text": [
      "===================Linear Regression================\n",
      "Mean Squared Error:0.01\n",
      "Mean Absolute Error:0.09\n",
      "R2 Score:0.95\n",
      "===================Ridge================\n",
      "Mean Squared Error:0.01\n",
      "Mean Absolute Error:0.09\n",
      "R2 Score:0.95\n",
      "===================Lasso================\n",
      "Mean Squared Error:0.01\n",
      "Mean Absolute Error:0.09\n",
      "R2 Score:0.94\n",
      "===================Decision Tree Regressor================\n",
      "Mean Squared Error:0.01\n",
      "Mean Absolute Error:0.06\n",
      "R2 Score:0.97\n",
      "===================RandomForestRegressor================\n",
      "Mean Squared Error:0.00\n",
      "Mean Absolute Error:0.03\n",
      "R2 Score:0.99\n",
      "===================Support Vector Regressor================\n",
      "Mean Squared Error:0.01\n",
      "Mean Absolute Error:0.06\n",
      "R2 Score:0.98\n",
      "===================GradientBoostingRegressor================\n",
      "Mean Squared Error:0.00\n",
      "Mean Absolute Error:0.02\n",
      "R2 Score:1.00\n",
      "===================AdaBoostRegressor================\n",
      "Mean Squared Error:0.00\n",
      "Mean Absolute Error:0.05\n",
      "R2 Score:0.98\n"
     ]
    }
   ],
   "source": [
    "for name,model in models.items():\n",
    "    print(f\"==================={name}================\")\n",
    "    model.fit(x_train,y_train)\n",
    "    y_pred=model.predict(x_test)\n",
    "    mse=mean_squared_error(y_test,y_pred)\n",
    "    mae=mean_absolute_error(y_test,y_pred)\n",
    "    r2_sc=r2_score(y_test,y_pred)\n",
    "    print(f\"Mean Squared Error:{mse:.2f}\")\n",
    "    print(f\"Mean Absolute Error:{mae:.2f}\")\n",
    "    print(f\"R2 Score:{r2_sc:.2f}\")"
   ]
  },
  {
   "cell_type": "code",
   "execution_count": null,
   "id": "0ee3de7e-acc7-4b50-98d8-25c80da1ff5f",
   "metadata": {},
   "outputs": [],
   "source": []
  }
 ],
 "metadata": {
  "kernelspec": {
   "display_name": "Python 3 (ipykernel)",
   "language": "python",
   "name": "python3"
  },
  "language_info": {
   "codemirror_mode": {
    "name": "ipython",
    "version": 3
   },
   "file_extension": ".py",
   "mimetype": "text/x-python",
   "name": "python",
   "nbconvert_exporter": "python",
   "pygments_lexer": "ipython3",
   "version": "3.13.1"
  }
 },
 "nbformat": 4,
 "nbformat_minor": 5
}
